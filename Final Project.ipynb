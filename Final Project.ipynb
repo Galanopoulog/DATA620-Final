{
 "cells": [
  {
   "cell_type": "markdown",
   "metadata": {
    "collapsed": true
   },
   "source": [
    "# Final Project\n",
    "#### Georgia & Sanjive"
   ]
  },
  {
   "cell_type": "markdown",
   "metadata": {},
   "source": [
    "**Goal:** For our final project in Data 620, the topic to be addressed was sentiment levels in an area where a tourist had passed away due to tragic circumstances. In our case, we took the incident where the 22-year old american tourist Bakari Henderson died after a violent encounter in the greek village of Laganas on July 7th of 2017. Twitter was used to collect tweets regarding the incident, analyze the sentiments attached to the hashtags (pertaining to both the victim and the location) and a t-test was performed with the aim to determine whether the overall opinion on the location as one to travel to had changed."
   ]
  },
  {
   "cell_type": "code",
   "execution_count": 1,
   "metadata": {
    "collapsed": true
   },
   "outputs": [],
   "source": [
    "import tweepy\n",
    "from tweepy import Stream\n",
    "from tweepy import OAuthHandler\n",
    "from tweepy.streaming import StreamListener\n",
    "from textblob import TextBlob\n",
    "import matplotlib.pyplot as plt\n",
    "%matplotlib inline\n",
    "import csv\n",
    "import pandas as pd\n",
    "import numpy as np\n",
    "import scipy\n",
    "from scipy.stats import norm\n",
    "from nltk.corpus import stopwords\n",
    "import time\n",
    "import collections\n",
    "import re"
   ]
  },
  {
   "cell_type": "code",
   "execution_count": 3,
   "metadata": {
    "collapsed": false
   },
   "outputs": [],
   "source": [
    "# Reading in tweets and labeling them positive/negative/neutral\n",
    "class TwitterClient(object):\n",
    "    def __init__(self):\n",
    "        # keys and tokens from the Twitter Dev Console\n",
    "        # codes were removed for privacy\n",
    "        consumer_key = ckey\n",
    "        consumer_secret = csecret\n",
    "        access_token = atoken\n",
    "        access_token_secret = asecret\n",
    " \n",
    "        # authentication\n",
    "        try:\n",
    "            self.auth = OAuthHandler(consumer_key, consumer_secret)\n",
    "            self.auth.set_access_token(access_token, access_token_secret)\n",
    "            self.api = tweepy.API(self.auth)\n",
    "        except:\n",
    "            print(\"Error: Authentication Failed\")\n",
    "\n",
    "    # cleaning tweet from special characters so that everything is unicode\n",
    "    def clean_tweet(self, tweet):\n",
    "        return ' '.join(re.sub(\"(@[A-Za-z0-9]+)|([^0-9A-Za-z \\t])|(\\w+:\\/\\/\\S+)\", \" \", tweet).split())\n",
    " \n",
    "    # Get sentiment (pos or neg) using TextBlob\n",
    "    def get_tweet_sentiment(self, tweet):\n",
    "        analysis = TextBlob(self.clean_tweet(tweet))\n",
    "        if analysis.sentiment.polarity > 0:\n",
    "            return 'positive'\n",
    "        elif analysis.sentiment.polarity == 0:\n",
    "            return 'neutral'\n",
    "        else:\n",
    "            return 'negative'\n",
    " \n",
    "    # Fetch tweets and read them in\n",
    "    def get_tweets(self, query, count = 100):\n",
    "        tweets = []\n",
    "        try:\n",
    "            fetched_tweets = self.api.search(q = query, count = count)\n",
    "\n",
    "            for tweet in fetched_tweets:\n",
    "                parsed_tweet = {}\n",
    " \n",
    "                parsed_tweet['text'] = tweet.text\n",
    "                parsed_tweet['sentiment'] = self.get_tweet_sentiment(tweet.text)\n",
    " \n",
    "                if tweet.retweet_count > 0:\n",
    "                    if parsed_tweet not in tweets:\n",
    "                        tweets.append(parsed_tweet)\n",
    "                else:\n",
    "                    tweets.append(parsed_tweet)\n",
    " \n",
    "            return tweets\n",
    " \n",
    "        except tweepy.TweepError as e:\n",
    "            print(\"Error : \" + str(e))"
   ]
  },
  {
   "cell_type": "markdown",
   "metadata": {},
   "source": [
    "### Taking a look at the tweets\n",
    "\n",
    "#### Regarding the victim"
   ]
  },
  {
   "cell_type": "code",
   "execution_count": 4,
   "metadata": {
    "collapsed": false
   },
   "outputs": [
    {
     "name": "stdout",
     "output_type": "stream",
     "text": [
      "Percent Tweets:\n",
      "---------------\n",
      "Positive: 17 %\n",
      "Negative: 42 %\n",
      "Neutral:  40 %\n",
      "\n",
      "\n",
      "Positive tweets:\n",
      "RT @flor0975: #BakariHenderson  Such hatred towards an absolutely amazing young man. #brokenheart Shaken #faith  #strength to family https:…\n",
      "RT @MignotteMekuria: #Racism/#travellingwhileblack why so many of us suspect race played part in #BakariHenderson, #SibahleNkumbi attacks h…\n",
      "This is what happens when you gut the State Department. God help Americans abroad, because America certainly won't.… https://t.co/xIlwHK9gto\n",
      "https://t.co/ajlTh5K0G7 #africa #greece #BakariHenderson #accra #Ghana #SouthAfrica #Kenya #nairobi  #DarEsSalaam #Tanzania #love\n",
      "Second new video up about #BakariHenderson https://t.co/YtCcfoGBds\n",
      "https://t.co/6AZCOJlROA \n",
      "😡 Smh.. Wish #BakariHenderson had some real friends there. Why my family can't go anywhere I can't get 2 in an hr\n",
      "#BakariHenderson murder racially motivated new evidence suggests https://t.co/6MB5Q3t5xs https://t.co/siDa5HzKbq\n",
      "RT @Lux_Productions: https://t.co/a5czjTGPQa the whole story #BakariHenderson #bakari #zante\n",
      "\n",
      "\n",
      "Negative tweets:\n",
      "RT @RealTimBlack: American tourist killed in Greece was fatally beaten over a selfie, police say #bakarihenderson https://t.co/gl9B016bdG\n",
      "RT @karmaaa001: I'm mad as hell!!\n",
      "#BakariHenderson\n",
      "RT @COLBRZE92: #BlackTwitter &amp; #BlackPeopleListen #BakariHenderson Was Killed In Greece by a Mobb. MESSING W/BECKY IS GETTING US KILLED #Pr…\n",
      "I'm mad as hell!!\n",
      "#BakariHenderson\n",
      "RT @officiallymicca: @CNN start fucking telling the truth #BakariHenderson was apart of a brawl in a bar! This was not about a girl or race…\n",
      "@CNN start fucking telling the truth #BakariHenderson was apart of a brawl in a bar! This was not about a girl or race #FakeNews\n",
      "10 serbians and 1 brudda ... fucking cowards . We will seek revenge ⚔️⚔️⚔️💣💣 love and respect going out to the family of #BakariHenderson\n",
      "American tourist killed in Greece was fatally beaten over a selfie, police say #bakarihenderson https://t.co/gl9B016bdG\n",
      "Good friend of my son. Horrific. Modern-day lynching. #BakariHenderson \n",
      "\n",
      "https://t.co/rj6prXzkyD\n",
      "\n",
      "\n",
      "Neutral tweets:\n",
      "RT @journalist92: After murder of #BakariHenderson Serbian tourists are banned to enter the cafe where murder occured. They're persona \"non…\n",
      "RT @WillieDLIVE: @realDonaldTrump has already fumbled the ball in the #BakariHenderson case. Maybe a call to the grieving family like in th…\n",
      "RT @Mr_ABChristian: 😡Where is the outrage for #BakariHenderson? Yet, you were upset about #Warmbier! 😡\n",
      "#BlackLivesMatter\n",
      "After murder of #BakariHenderson Serbian tourists are banned to enter the cafe where murder occured. They're persona \"non grata@ #zakynthos\n",
      "Remember Bakari Henderson. @realDonaldTrump @vp @StateDept @cnn @MSNBC @FoxNews @abc @cbs @NBCNews @newsone #BakariHenderson\n",
      "RT @_UhuruNews_: \"The murder of #BakariHenderson: #African beaten to death in #Greece\" https://t.co/TN1piIj6Kf https://t.co/jyIgpUy9Mj\n",
      "RT @searchforuhuru: https://t.co/ajlTh5K0G7 #africa #greece #BakariHenderson #accra #Ghana #SouthAfrica #Kenya #nairobi  #DarEsSalaam #Tanz…\n",
      "RT @INPDUMNYC: We wondered why they weren't attacked as well... Justice for #BakariHenderson https://t.co/Km1nb3j5Gh\n",
      "We wondered why they weren't attacked as well... Justice for #BakariHenderson https://t.co/Km1nb3j5Gh\n"
     ]
    }
   ],
   "source": [
    "# Creating object for victim\n",
    "def main():\n",
    "    api = TwitterClient()\n",
    "    tweets = api.get_tweets(query = '#BakariHenderson', count = 200)\n",
    "    \n",
    "    # Positive/Negative/Neutral tweets\n",
    "    ptweets = [tweet for tweet in tweets if tweet['sentiment'] == 'positive']\n",
    "    ntweets = [tweet for tweet in tweets if tweet['sentiment'] == 'negative']\n",
    "    neutweets = [tweet for tweet in tweets if tweet['sentiment'] == 'neutral']\n",
    "    \n",
    "    print\"Percent Tweets:\"\n",
    "    print\"---------------\"\n",
    "    print(\"Positive: {} %\".format(100*len(ptweets)/len(tweets)))\n",
    "    print(\"Negative: {} %\".format(100*len(ntweets)/len(tweets)))\n",
    "    print(\"Neutral:  {} %\".format(100*len(neutweets)/len(tweets)))\n",
    " \n",
    "    # printing first 10 positive tweets\n",
    "    print(\"\\n\\nPositive tweets:\")\n",
    "    for tweet in ptweets[:9]:\n",
    "        print(tweet['text'])\n",
    " \n",
    "    # printing first 10 negative tweets\n",
    "    print(\"\\n\\nNegative tweets:\")\n",
    "    for tweet in ntweets[:9]:\n",
    "        print(tweet['text'])\n",
    "        \n",
    "    # printing first 10 negative tweets\n",
    "    print(\"\\n\\nNeutral tweets:\")\n",
    "    for tweet in neutweets[:9]:\n",
    "        print(tweet['text'])\n",
    " \n",
    "if __name__ == \"__main__\":\n",
    "    # calling main function\n",
    "    main()"
   ]
  },
  {
   "cell_type": "markdown",
   "metadata": {},
   "source": [
    "#### Regarding the location"
   ]
  },
  {
   "cell_type": "code",
   "execution_count": 5,
   "metadata": {
    "collapsed": false
   },
   "outputs": [
    {
     "name": "stdout",
     "output_type": "stream",
     "text": [
      "Percent Tweets:\n",
      "---------------\n",
      "Positive: 34 %\n",
      "Negative: 23 %\n",
      "Neutral:  42 %\n",
      "\n",
      "\n",
      "Positive tweets:\n",
      "RT @olsxo: this is what we do! #club1830 @Club1830Zante #laganas #party #holiday #zante #bestevents #reps #LEGENDARY https://t.co/o2h2i0lulR\n",
      "this is what we do! #club1830 @Club1830Zante #laganas #party #holiday #zante #bestevents #reps #LEGENDARY https://t.co/o2h2i0lulR\n",
      "RT @Willys_Zante: New Bar opening  #zante2016  #zante  #Laganas  #scottish   #letshaveit\n",
      "RT @Jodielouisej: Works done, gin in hand 🍋🍹 2 more sleeps - holiday mode #zante #greece #laganas @mc_buttonz\n",
      "Works done, gin in hand 🍋🍹 2 more sleeps - holiday mode #zante #greece #laganas @mc_buttonz\n",
      "This time next week We'll be getting ready for our first night out in Zante @molly_eve_t #zante #laganas 🍸🍹😛😍\n",
      "Listening in from Zante!!! @mistajam \n",
      "\n",
      "Getting ready to hit the strip!!! #laganas #DanceAnthems\n",
      "Best Hotel #deals in #Laganas #PoseidonBeachHotelLaganas starting at EUR143.65 https://t.co/uxW9ofsCLG https://t.co/K6YUhO3HHu\n",
      "RT @Chara_fc: A 22-year-old American tourist was beaten to death in a bar fight in #Greece, authorities say,#Laganas,#Zakynthos https://t.c…\n",
      "\n",
      "\n",
      "Negative tweets:\n",
      "RT @gtpgr: ' #Laganas Tragic Incident Does Not Represent #Zakynthos says Ionian Islands Governor https://t.co/VsVLI1zpGg #Greece #BakariHen…\n",
      "' #Laganas Tragic Incident Does Not Represent #Zakynthos says Ionian Islands Governor https://t.co/VsVLI1zpGg… https://t.co/4dJ0F5k5fK\n",
      "@Chara_fc #Appalling! #laganas #zakynthos ...#shut the #shit down! #American #BakariHenderson #murdered!… https://t.co/0H0ZbLxe1F\n",
      "#SERBIANS ,ARE, CAUSING ,#TROUBLE, IN ,#LAGANAS, #ZANTE ,PEOPLE SAY https://t.co/URBOnTF5QF\n",
      "I added a video to a @YouTube playlist https://t.co/URBOnTF5QF #SERBIANS ARE CAUSING #TROUBLE IN #LAGANAS #ZANTE PEOPLE SAY\n",
      "American tourist killed in Greece was fatally beaten over a selfie, police say https://t.co/lb8pl2QsMo #BakariHenderson #Zakynthos #Laganas\n",
      "\n",
      "\n",
      "Neutral tweets:\n",
      "RT @cheekytikis: #cheekytikis 106.7fm cummin in ya ears with Psycho Steve in his partybus #Zante #ZANTE #Zante2017 #laganas @Club1830Zante…\n",
      "#cheekytikis 106.7fm cummin in ya ears with Psycho Steve in his partybus #Zante #ZANTE #Zante2017 #laganas… https://t.co/S6hnittXfl\n",
      "RT @darkesy13: Wanna be back in #zante #laganas #barcode\n",
      "#LETO2017 #APARTMANIGRČKA2017 #LASTMINUTEBR12 #ZAKINTOS #LAGANAS 10 noći+bus od 190€ po osobi https://t.co/jrd6HLsdpa\n",
      "Holiday booked and only 6 weeks to wait #SummerHoliday #Laganas #Zante @ Laganás, Greece https://t.co/S11PIo6xMR\n",
      "صباح الخير ليومي لنفسي لروحي لثباتي وحياتي ونهاري ولكم ايضا#zakynthos2017 #laganas follow my… https://t.co/syuVptGwAP\n",
      "RT @HessleTravel: Tassia Studios\n",
      "#Greece, #Zante, #Laganas\n",
      "25 May 17, Manchester, 7nts, Self Catering\n",
      "£126pp\n",
      "https://t.co/utad4m7Phz https:…\n",
      "la caletta speciale #laganas https://t.co/OI3OoyOPHA\n",
      "RT @cheekytikis: #zante #laganas get following @cheekytikis\n"
     ]
    }
   ],
   "source": [
    "# Creating object for location\n",
    "def main():\n",
    "    api = TwitterClient()\n",
    "    tweets = api.get_tweets(query = '#Laganas', count = 200)\n",
    " \n",
    "    # Positive/Negative/Neutral tweets\n",
    "    ptweets = [tweet for tweet in tweets if tweet['sentiment'] == 'positive']\n",
    "    ntweets = [tweet for tweet in tweets if tweet['sentiment'] == 'negative']\n",
    "    neutweets = [tweet for tweet in tweets if tweet['sentiment'] == 'neutral']\n",
    "    \n",
    "    print\"Percent Tweets:\"\n",
    "    print\"---------------\"\n",
    "    print(\"Positive: {} %\".format(100*len(ptweets)/len(tweets)))\n",
    "    print(\"Negative: {} %\".format(100*len(ntweets)/len(tweets)))\n",
    "    print(\"Neutral:  {} %\".format(100*len(neutweets)/len(tweets)))\n",
    " \n",
    "    # printing first 10 positive tweets\n",
    "    print(\"\\n\\nPositive tweets:\")\n",
    "    for tweet in ptweets[:9]:\n",
    "        print(tweet['text'])\n",
    " \n",
    "    # printing first 10 negative tweets\n",
    "    print(\"\\n\\nNegative tweets:\")\n",
    "    for tweet in ntweets[:9]:\n",
    "        print(tweet['text'])\n",
    "        \n",
    "    # printing first 10 negative tweets\n",
    "    print(\"\\n\\nNeutral tweets:\")\n",
    "    for tweet in neutweets[:9]:\n",
    "        print(tweet['text'])\n",
    "        \n",
    "if __name__ == \"__main__\":\n",
    "    # calling main function\n",
    "    main()"
   ]
  },
  {
   "cell_type": "markdown",
   "metadata": {},
   "source": [
    "#### From the natives "
   ]
  },
  {
   "cell_type": "code",
   "execution_count": 6,
   "metadata": {
    "collapsed": false
   },
   "outputs": [
    {
     "name": "stdout",
     "output_type": "stream",
     "text": [
      "Τι γίνεται με τις αγγλιδούλες; Μ' έχουν κάνει φόλοου μια ντουζίνα; Τι νομίζουν, ότι έχω ενοικιαζόμενα στο Λαγανά; #XFactorGR #masterchefgr\n",
      "RT @Karamalegolas: Εις τον πόλεμο της Τροίας τον καιρό της μαλακιας ,εγαμιοτανε ο Δίας με την ήρα την πουτανα πο χε κωλο σα λαγάνα και μουν…\n",
      "Τουρίστρια δάγκωσε αστυνομικό στον Λαγανά! #Zante  https://t.co/jzr95d3bMp https://t.co/diHUH2OpKI\n",
      "RT @TsimpourosV: που λετε... περσι στο Λαγανα πεφτουν πανω στ αμαξι 2γκομενες κ βγηκε ο πατερας κ τις ειπε αγρια:γκοου αγουει μωρη!\n",
      " εεε κ…\n",
      "RT @iosif76: Θα πήγαινα κι εγώ να καθαρίσω την παραλία στο Λαγανά αλλά δε ξέρω που να σβήσω το τσιγάρο μου\n",
      "@tou_diaolou @dimdemi96 έχουμε κ τα αβατα του Λαγανα των Μαλιων στο Φαληρακι κλπ αλλα εκει είναι τουρίστες\n",
      "Θα πήγαινα κι εγώ να καθαρίσω την παραλία στο Λαγανά αλλά δε ξέρω που να σβήσω το τσιγάρο μου\n",
      "RT @my_story_me: κάθε χρόνο, αυτή τη μέρα θα πρέπει να δίνεται και όσκαρ γρηγορότερου copy paste για το κόκκινο χαλί. έστω μια λαγάνα, ένα…\n",
      "Όταν οι διακοπές στην Ελλάδα «βάφονται» με αίμα - Από τη Μύκονο στον Λαγανά... https://t.co/lueWP3AzTd\n",
      "Όταν οι διακοπές στην Ελλάδα «βάφονται» με αίμα - Από τη Μύκονο στον Λαγανά https://t.co/aQzgtQ9nmZ https://t.co/0bI4XgDBDB\n",
      "ΕΓΚΛΗΜΑ ΣΤΟ ΛΑΓΑΝΑ: ΑΠΟΚΑΛΥΨΕΙΣ ΣΟΚ! https://t.co/PU6vQwj2uJ https://t.co/ovBlOk97J4\n",
      "ΕΓΚΛΗΜΑ ΣΤΟ ΛΑΓΑΝΑ: ΑΠΟΚΑΛΥΨΕΙΣ ΣΟΚ! https://t.co/GZCv1u2kdo https://t.co/dkLtjcfaDD\n",
      "ΕΓΚΛΗΜΑ ΣΤΟ ΛΑΓΑΝΑ: ΑΠΟΚΑΛΥΨΕΙΣ ΣΟΚ! https://t.co/mE0F8S16LG https://t.co/VXve6AQ3lH\n",
      "#eidhseis Θ. Γαλιατσάτος: Αποσπασματικό και μεμονωμένο περιστατικό ο θάνατος του Αμερικανού στον Λαγανά https://t.co/i3KVOSpL2p\n",
      "Συνεχίζουν να πουλάνε ανενόχλητοι αμπούλες γέλιου - 10.000 κατασχέσεις σε Κέρκυρα &amp; Λαγανά - https://t.co/ElserIqtZo https://t.co/ul3VeM4MbV\n",
      "@KoulisRoma Να πάτε να φάτε λαγανα εννοείς;;\n",
      "RT @iltheof: Ο αμερικάνος στον Λαγανά και χτες ο αυστραλός στην Αθήνα \"έζησαν τον μύθο τους\" στο μπουρδέλο\n",
      "ΕΓΚΛΗΜΑ ΣΤΟ ΛΑΓΑΝΑ: ΑΠΟΚΑΛΥΨΕΙΣ ΣΟΚ!\n",
      "https://t.co/GZCv1tKJlQ https://t.co/BMvqUBJJjm\n",
      "RT @giagiakaa: Λαγανα με μπακαλιαρο η μανα, λαγανα με πιτογυρο εγω\n",
      "Έγκλημα στο Λαγανά: Γι’ αυτή τη Σέρβα έγινε ο καβγάς στο μπαρ –Αφορμή μια selfie https://t.co/KF44VXQtE9\n",
      "Τι κατέθεσε η Σέρβα που έβγαλε σέλφι με τον 22χρονο τουρίστα στο Λαγανά\n",
      "https://t.co/Tr6lK5mkwc\n",
      "Τι κατέθεσε η Σέρβα που έβγαλε σέλφι με τον 22χρονο τουρίστα στο Λαγανά https://t.co/TrJiVDslj0\n",
      "Τι κατέθεσε η Σέρβα που έβγαλε σέλφι με τον 22χρονο τουρίστα στο Λαγανά https://t.co/uSVuEpKhac https://t.co/gkSt7jLN9h\n",
      "Αποκάλυψη! Γι` αυτή τη Σέρβα έγινε το φονικό στη Ζάκυνθο! https://t.co/kcGnfDCHXD\n",
      "\n",
      "Καθώς η διερεύνηση του στυγερού εγκλήματος στον Λαγανά …\n",
      "Έγκλημα στο Λαγανά: Γι’ αυτή τη Σέρβα έγινε ο καβγάς στο μπαρ –Αφορμή μια selfie https://t.co/NwmYfnApwh\n",
      "Άβατο στα Εξάρχεια, άβατο στο Μενίδι, άβατο στον Λαγανά, τώρα άβατο και στην Ερμού! #fygete\n",
      "Η αποκαλυπτική κατάθεση της νεαρής κοπέλας που έβγαλε selfie με τον Μπάκαρι στο Λαγανά \n",
      " https://t.co/eVyuXhMmD7 https://t.co/6xwj0zbhVL\n",
      "Η αποκαλυπτική κατάθεση της νεαρής κοπέλας που έβγαλε selfie με τον Μπάκαρι στο Λαγανά \n",
      " https://t.co/O7Xyb6rV1y https://t.co/ROWiVOZhls\n",
      "RT @db8_gr: Έδρασαν ως εγκληματική συμμορία οι δολοφόνοι του Λαγανά, Ελληνες και Σέρβοι. - https://t.co/vLku6ILE9m https://t.co/wZgvL4XuIS\n",
      "RT @gogoserz: Εντοπίστηκαν και κατασχέθηκαν 7.000 αμπούλες (αέριο γέλιου) στο #Λαγανά\n",
      "#Zakynthos\n",
      "Εντοπίστηκαν και κατασχέθηκαν 7.000 αμπούλες (αέριο γέλιου) στο #Λαγανά\n",
      "#Zakynthos\n",
      "Έδρασαν ως εγκληματική συμμορία οι δολοφόνοι του Λαγανά, Ελληνες και Σέρβοι. - https://t.co/vLku6ILE9m https://t.co/wZgvL4XuIS\n",
      "Η κατάθεση της τουρίστριας που έγινε αιτία του μακελειού στον Λαγανά (pics) https://t.co/umedN5N04Z\n",
      "Μία όμορφη περιπέτεια ξεκινά για εσάς από την στιγμή που μπαίνετε στο Galaxy Βeach Resort στον Λαγανά της... https://t.co/7BAOqD4ifd\n",
      "ΖΑΚΥΝΘΟ-ΛΑΓΑΝΑ ΑΔΕΡΦΙΑ ΜΟΥ https://t.co/ZhA8JagUxf\n",
      "Η κατάθεση της τουρίστριας που έγινε αιτία του μακελειού στον Λαγανά (pics) https://t.co/ZjxsTjTJD6\n",
      "\"Υπάρχουν τόσοι Σέρβοι στο μαγαζί, γιατί μιλάς στον μαύρο\" - Η αποκαλυπτική κατάθεση για τη δολοφονία στο Λαγανά https://t.co/BLMK2CqwWf\n",
      "Η αποκαλυπτική κατάθεση της νεαρής κοπέλας που έβγαλε selfie με τον Μπάκαρι στο Λαγανά https://t.co/q92pSRU06f\n",
      "Η αποκαλυπτική κατάθεση της νεαρής κοπέλας που έβγαλε selfie με τον Μπάκαρι στο Λαγανά https://t.co/kzK3nsbDdm\n",
      "\"Υπάρχουν τόσοι Σέρβοι στο μαγαζί, γιατί μιλάς στον μαύρο\" - Η αποκαλυπτική κατάθεση για τη δολοφονία στο Λαγανά... https://t.co/tv6e6TJrju\n",
      "\"Υπάρχουν τόσοι Σέρβοι στο μαγαζί, γιατί μιλάς στον μαύρο\" - Η αποκαλυπτική κατάθεση για τη δολοφονία στο Λαγανά b… https://t.co/HtC33j0FWZ\n",
      "RT @LykavitosGr: Η συγκλονιστική κατάθεση της Σέρβας: Έτσι έγινε το φονικό στον Λαγανά  #lykavitosgr #zakynthos https://t.co/qR5fPOZ8vJ\n",
      "Έγκλημα στο Λαγανά: γι' αυτή τη Σέρβα έγινε ο καβγάς στο μπαρ - Αφορμή μία selfie - https://t.co/p7Id3vKlHs https://t.co/s4U1lrRwkP\n",
      "Σοκάρουν τα νέα στοιχεία για τη δολοφονία του 22χρονου στον Λαγανά-Τον κλώτσησαν 19 φορές στο κεφάλι | NewsPistol - https://t.co/iuRtpbi5tz\n",
      "Η συγκλονιστική κατάθεση της Σέρβας: Έτσι έγινε το φονικό στον Λαγανά  #lykavitosgr #zakynthos https://t.co/qR5fPOZ8vJ\n",
      "Σοκάρουν τα νέα στοιχεία για τη δολοφονία του 22χρονου στον Λαγανά-Τον κλώτσησαν 19 φορές στο κεφάλι https://t.co/TTrykdxpfG\n",
      "Σοκάρουν τα νέα στοιχεία για τη δολοφονία του 22χρονου στον Λαγανά-Τον κλώτσησαν 19 φορές στο κεφάλι https://t.co/xDh69SJ7Id\n",
      "RT @LykavitosGr: Η συγκλονιστική κατάθεση της Σέρβας: Έτσι έγινε το φονικό στον Λαγανά  #lykavitosgr #zakynthos https://t.co/qR5fPOZ8vJ htt…\n",
      "Η συγκλονιστική κατάθεση της Σέρβας: Έτσι έγινε το φονικό στον Λαγανά  #lykavitosgr #zakynthos… https://t.co/R3OFLHAfWA\n",
      "Ο αμερικάνος στον Λαγανά και χτες ο αυστραλός στην Αθήνα \"έζησαν τον μύθο τους\" στο μπουρδέλο\n",
      "Την επεσε ΣΔΟΕ λεει στην Ζακυνθο --&gt;\"Στη Ζάκυνθο, σε εστιατόριο στις περιοχη Λαγανά για  16 αποδείξεις\" 😂😂 ΤΑ ΜΠΑΡΑΚΙΑ ΣΕΡΒΩΝ ΟΛΑ ΝΟΜΙΜΑ 😂😂\n",
      "Σοκάρει η περιγραφή της δολοφονίας του 22χρονου στο Λαγανά - ΝΕΑ ΚΡΗΤΗ https://t.co/HtxtFRPq5h\n",
      "Σοκάρουν τα νέα στοιχεία για τη δολοφονία του 22χρονου στον Λαγανά-Τον κλώτσησαν 19 φορές στο κεφάλι | NewsPistol - https://t.co/h3YS2hCt3w\n",
      "Η φωτογραφία του 22χρονου Αμερικανού Μπακάρι Χέντερσον τα ξημερώματα της Παρασκευής, στον Λαγανά Ζακύνθου με μια... https://t.co/19bYobltiV\n",
      "RT @kanekos69: Άγρια δολοφονία Αμερικανου τουρίστα σε μπαρ στον Λαγανά απο σερβους ακροδεξιους αδερφους μας, απανωτα τα χτυπηματα στον τουρ…\n",
      "Εντοπισμός εκατοντάδων αμπουλών και ακατάλληλων προφυλακτικών στον Λαγανά - espressonews.gr https://t.co/fANv8n1t76\n",
      "Σοκάρει η περιγραφή της δολοφονίας του 22χρονου στο Λαγανά https://t.co/H0DClZAcGx\n",
      "Ανατριχιαστικές περιγραφές για το φονικό στο Λαγανά: Τον σκότωσαν με 19 κλωτσιές στο κεφάλι -… https://t.co/Rqqp4f6t3I\n",
      "Περιγραφές σοκ: Πως έγινε η δολοφονία του αμερικανού τουρίστα στο Λαγανά https://t.co/4PcRXXy8cR #Κοινωνία https://t.co/e6V0MTo3LM\n",
      "Περιγραφές σοκ: Πως έγινε η δολοφονία του αμερικανού τουρίστα στο Λαγανά - https://t.co/YVhNpBiQSB https://t.co/Xu5o5LfUrh\n",
      "Προφυλακιστέος ο τελευταίος από τους συλληφθέντες για το φονικό στο Λαγανά https://t.co/hfk0LZPcHS\n",
      "Ανατριχιαστικές περιγραφές για το φονικό στο Λαγανά: Τον σκότωσαν με 19 κλωτσιές στο κεφάλι (BINTEO) https://t.co/KHkl99c1O9\n"
     ]
    }
   ],
   "source": [
    "# Creating object for location\n",
    "def main():\n",
    "    api = TwitterClient()\n",
    "    tweets = api.get_tweets(query = 'Λαγανά', count = 200)\n",
    "\n",
    "    for tweet in tweets:\n",
    "        print(tweet['text'])\n",
    "        \n",
    "if __name__ == \"__main__\":\n",
    "    # calling main function\n",
    "    main()"
   ]
  },
  {
   "cell_type": "markdown",
   "metadata": {},
   "source": [
    "A couple of points that we see at first glance is that the tweets regarding the victim (both positive and negative) don't appear to blame the location directly. Comments about racism seem prominent, as well as sorrow for the event, but the focus appears to be behind the cause of the attack, moreso than the place. On the other hand, the tweets regarding the location (while still mentioning outrage about the event) appear to be more lighthearted in that comments are included that allude to a fun time (holiday, bar, drinks, etc). The third group of tweets, the ones written in greek, could not be broken into positive or negative due to the lack of a lexicon/translation method. However, the context primarily includes shock over the event, as well as newest developments regarding the case."
   ]
  },
  {
   "cell_type": "markdown",
   "metadata": {
    "collapsed": true
   },
   "source": [
    "### Manipulating data\n",
    "\n",
    "In order to run tests and find the sentiment value, we had to first enter the date, time and tweet into a csv file."
   ]
  },
  {
   "cell_type": "code",
   "execution_count": 7,
   "metadata": {
    "collapsed": false
   },
   "outputs": [
    {
     "data": {
      "text/plain": [
       "'\\n# Victim csv\\n\\nauth = OAuthHandler(ckey, csecret)\\nauth.set_access_token(atoken, asecret)\\n\\napi = tweepy.API(auth)\\ncsvFile = open(\\'victim.csv\\', \\'a\\')\\n\\ncsvWriter = csv.writer(csvFile)\\n\\nfor tweet in tweepy.Cursor(api.search,\\n                           q = \"#BakariHenderson\",\\n                           since = \"2011-11-11\",\\n                           lang = \"en\").items():\\n\\n    csvWriter.writerow([tweet.created_at, tweet.text.encode(\\'utf-8\\')])\\n    print tweet.created_at, tweet.text\\ncsvFile.close()\\n'"
      ]
     },
     "execution_count": 7,
     "metadata": {},
     "output_type": "execute_result"
    }
   ],
   "source": [
    "'''\n",
    "# Victim csv\n",
    "\n",
    "auth = OAuthHandler(ckey, csecret)\n",
    "auth.set_access_token(atoken, asecret)\n",
    "\n",
    "api = tweepy.API(auth)\n",
    "csvFile = open('victim.csv', 'a')\n",
    "\n",
    "csvWriter = csv.writer(csvFile)\n",
    "\n",
    "for tweet in tweepy.Cursor(api.search,\n",
    "                           q = \"#BakariHenderson\",\n",
    "                           since = \"2011-11-11\",\n",
    "                           lang = \"en\").items():\n",
    "\n",
    "    csvWriter.writerow([tweet.created_at, tweet.text.encode('utf-8')])\n",
    "    print tweet.created_at, tweet.text\n",
    "csvFile.close()\n",
    "'''"
   ]
  },
  {
   "cell_type": "code",
   "execution_count": 8,
   "metadata": {
    "collapsed": true
   },
   "outputs": [],
   "source": [
    "# read in csv and remove any remaining unreadable characters\n",
    "tweetering = pd.read_csv('victim.csv',names=['Date', 'Text'])\n",
    "tweetering.Text.replace({r'[^\\x00-\\x7F]+':''}, regex=True, inplace=True)"
   ]
  },
  {
   "cell_type": "code",
   "execution_count": 9,
   "metadata": {
    "collapsed": false
   },
   "outputs": [
    {
     "data": {
      "text/html": [
       "<div>\n",
       "<table border=\"1\" class=\"dataframe\">\n",
       "  <thead>\n",
       "    <tr style=\"text-align: right;\">\n",
       "      <th></th>\n",
       "      <th>Date</th>\n",
       "      <th>Text</th>\n",
       "      <th>polarity</th>\n",
       "      <th>subjectivity</th>\n",
       "    </tr>\n",
       "  </thead>\n",
       "  <tbody>\n",
       "    <tr>\n",
       "      <th>1035</th>\n",
       "      <td>2017-07-10 21:54:14</td>\n",
       "      <td>yo ya'll check this out Emmett Still: Black Ar...</td>\n",
       "      <td>-0.166667</td>\n",
       "      <td>0.433333</td>\n",
       "    </tr>\n",
       "    <tr>\n",
       "      <th>440</th>\n",
       "      <td>2017-07-13 12:27:21</td>\n",
       "      <td>this whole #BakariHenderson situation is only ...</td>\n",
       "      <td>0.046667</td>\n",
       "      <td>0.406667</td>\n",
       "    </tr>\n",
       "    <tr>\n",
       "      <th>655</th>\n",
       "      <td>2017-07-12 17:37:11</td>\n",
       "      <td>scumbag racial separatists. An AMERICAN (color...</td>\n",
       "      <td>-0.100000</td>\n",
       "      <td>0.000000</td>\n",
       "    </tr>\n",
       "    <tr>\n",
       "      <th>728</th>\n",
       "      <td>2017-07-12 05:48:28</td>\n",
       "      <td>real media, #BakariHenderson re the Bakari Hen...</td>\n",
       "      <td>0.200000</td>\n",
       "      <td>0.300000</td>\n",
       "    </tr>\n",
       "    <tr>\n",
       "      <th>882</th>\n",
       "      <td>2017-07-11 08:43:10</td>\n",
       "      <td>nice job, Tariq... Let us remember #BakariHend...</td>\n",
       "      <td>0.300000</td>\n",
       "      <td>0.750000</td>\n",
       "    </tr>\n",
       "  </tbody>\n",
       "</table>\n",
       "</div>"
      ],
      "text/plain": [
       "                     Date                                               Text  \\\n",
       "1035  2017-07-10 21:54:14  yo ya'll check this out Emmett Still: Black Ar...   \n",
       "440   2017-07-13 12:27:21  this whole #BakariHenderson situation is only ...   \n",
       "655   2017-07-12 17:37:11  scumbag racial separatists. An AMERICAN (color...   \n",
       "728   2017-07-12 05:48:28  real media, #BakariHenderson re the Bakari Hen...   \n",
       "882   2017-07-11 08:43:10  nice job, Tariq... Let us remember #BakariHend...   \n",
       "\n",
       "      polarity  subjectivity  \n",
       "1035 -0.166667      0.433333  \n",
       "440   0.046667      0.406667  \n",
       "655  -0.100000      0.000000  \n",
       "728   0.200000      0.300000  \n",
       "882   0.300000      0.750000  "
      ]
     },
     "execution_count": 9,
     "metadata": {},
     "output_type": "execute_result"
    }
   ],
   "source": [
    "# add polarity and subjectivity columns\n",
    "tweetering['polarity'] = tweetering.apply(lambda x: TextBlob(x['Text']).sentiment.polarity, axis=1)\n",
    "tweetering['subjectivity'] = tweetering.apply(lambda x: TextBlob(x['Text']).sentiment.subjectivity, axis=1)\n",
    "\n",
    "# drop duplicate rows\n",
    "tweetering = tweetering.sort_values('Text', ascending=False).drop_duplicates(['Text'])\n",
    "tweetering.head()"
   ]
  },
  {
   "cell_type": "code",
   "execution_count": 10,
   "metadata": {
    "collapsed": false
   },
   "outputs": [
    {
     "data": {
      "text/plain": [
       "'\\n# Location csv\\n\\nauth = OAuthHandler(ckey, csecret)\\nauth.set_access_token(atoken, asecret)\\n\\napi = tweepy.API(auth)\\n\\n# Create a csv file to add data to\\ncsvFile = open(\\'location.csv\\', \\'a\\')\\ncsvWriter = csv.writer(csvFile)\\n\\n# Fetch tweets\\nfor tweet in tweepy.Cursor(api.search,\\n                           q = \"#Laganas#LAGANAS\",\\n                           since = \"2011-11-11\",\\n                           lang = \"en\").items():\\n\\n    # Write a row to the CSV file\\n    csvWriter.writerow([tweet.created_at, tweet.text.encode(\\'utf-8\\')])\\n    print tweet.created_at, tweet.text\\ncsvFile.close()\\n'"
      ]
     },
     "execution_count": 10,
     "metadata": {},
     "output_type": "execute_result"
    }
   ],
   "source": [
    "'''\n",
    "# Location csv\n",
    "\n",
    "auth = OAuthHandler(ckey, csecret)\n",
    "auth.set_access_token(atoken, asecret)\n",
    "\n",
    "api = tweepy.API(auth)\n",
    "\n",
    "# Create a csv file to add data to\n",
    "csvFile = open('location.csv', 'a')\n",
    "csvWriter = csv.writer(csvFile)\n",
    "\n",
    "# Fetch tweets\n",
    "for tweet in tweepy.Cursor(api.search,\n",
    "                           q = \"#Laganas#LAGANAS\",\n",
    "                           since = \"2011-11-11\",\n",
    "                           lang = \"en\").items():\n",
    "\n",
    "    # Write a row to the CSV file\n",
    "    csvWriter.writerow([tweet.created_at, tweet.text.encode('utf-8')])\n",
    "    print tweet.created_at, tweet.text\n",
    "csvFile.close()\n",
    "'''"
   ]
  },
  {
   "cell_type": "code",
   "execution_count": 11,
   "metadata": {
    "collapsed": false
   },
   "outputs": [],
   "source": [
    "# read in csv and remove any remaining unreadable characters\n",
    "locationing = pd.read_csv('location.csv',names=['Date', 'Text'])\n",
    "locationing.Text.replace({r'[^\\x00-\\x7F]+':''}, regex=True, inplace=True)"
   ]
  },
  {
   "cell_type": "code",
   "execution_count": 12,
   "metadata": {
    "collapsed": false
   },
   "outputs": [
    {
     "data": {
      "text/html": [
       "<div>\n",
       "<table border=\"1\" class=\"dataframe\">\n",
       "  <thead>\n",
       "    <tr style=\"text-align: right;\">\n",
       "      <th></th>\n",
       "      <th>Date</th>\n",
       "      <th>Text</th>\n",
       "      <th>polarity</th>\n",
       "      <th>subjectivity</th>\n",
       "    </tr>\n",
       "  </thead>\n",
       "  <tbody>\n",
       "    <tr>\n",
       "      <th>276</th>\n",
       "      <td>2017-07-12 14:05:44</td>\n",
       "      <td>your can find best #villa for your #holiday in...</td>\n",
       "      <td>0.378788</td>\n",
       "      <td>0.251515</td>\n",
       "    </tr>\n",
       "    <tr>\n",
       "      <th>284</th>\n",
       "      <td>2017-07-12 08:05:27</td>\n",
       "      <td>one of the most beautiful places i have  seen ...</td>\n",
       "      <td>0.675000</td>\n",
       "      <td>0.750000</td>\n",
       "    </tr>\n",
       "    <tr>\n",
       "      <th>257</th>\n",
       "      <td>2017-07-12 21:12:38</td>\n",
       "      <td>now home thx #condor - #zakynthos was #amazing...</td>\n",
       "      <td>0.600000</td>\n",
       "      <td>0.900000</td>\n",
       "    </tr>\n",
       "    <tr>\n",
       "      <th>106</th>\n",
       "      <td>2017-07-16 18:00:42</td>\n",
       "      <td>in love with greece #Zakynthos https://t.co/Y8...</td>\n",
       "      <td>0.500000</td>\n",
       "      <td>0.600000</td>\n",
       "    </tr>\n",
       "    <tr>\n",
       "      <th>140</th>\n",
       "      <td>2017-07-15 17:16:24</td>\n",
       "      <td>https://t.co/B1Vi8vlyXl SEE HOW #BakariHenders...</td>\n",
       "      <td>-0.100000</td>\n",
       "      <td>0.000000</td>\n",
       "    </tr>\n",
       "  </tbody>\n",
       "</table>\n",
       "</div>"
      ],
      "text/plain": [
       "                    Date                                               Text  \\\n",
       "276  2017-07-12 14:05:44  your can find best #villa for your #holiday in...   \n",
       "284  2017-07-12 08:05:27  one of the most beautiful places i have  seen ...   \n",
       "257  2017-07-12 21:12:38  now home thx #condor - #zakynthos was #amazing...   \n",
       "106  2017-07-16 18:00:42  in love with greece #Zakynthos https://t.co/Y8...   \n",
       "140  2017-07-15 17:16:24  https://t.co/B1Vi8vlyXl SEE HOW #BakariHenders...   \n",
       "\n",
       "     polarity  subjectivity  \n",
       "276  0.378788      0.251515  \n",
       "284  0.675000      0.750000  \n",
       "257  0.600000      0.900000  \n",
       "106  0.500000      0.600000  \n",
       "140 -0.100000      0.000000  "
      ]
     },
     "execution_count": 12,
     "metadata": {},
     "output_type": "execute_result"
    }
   ],
   "source": [
    "# add polarity and subjectivity columns\n",
    "locationing['polarity'] = locationing.apply(lambda x: TextBlob(x['Text']).sentiment.polarity, axis=1)\n",
    "locationing['subjectivity'] = locationing.apply(lambda x: TextBlob(x['Text']).sentiment.subjectivity, axis=1)\n",
    "\n",
    "# drop duplicate rows\n",
    "locationing = locationing.sort_values('Text', ascending=False).drop_duplicates(['Text'], keep = 'first')\n",
    "locationing.head()"
   ]
  },
  {
   "cell_type": "markdown",
   "metadata": {},
   "source": [
    "### Summary statistics on datasets\n",
    "\n",
    "#### Sentiment Polarity"
   ]
  },
  {
   "cell_type": "code",
   "execution_count": 13,
   "metadata": {
    "collapsed": false
   },
   "outputs": [
    {
     "name": "stdout",
     "output_type": "stream",
     "text": [
      "        Length:\n",
      "---------------------\n",
      "victim tweets: 504\n",
      "location tweets: 224\n",
      "---------------------\n",
      "    Mean Sentiment:\n",
      "---------------------\n",
      "victim tweets: -0.055064\n",
      "location tweets: 0.146171\n",
      "---------------------\n",
      "    Min Sentiment:\n",
      "---------------------\n",
      "victim tweets: -1.000000\n",
      "location tweets: -0.750000\n",
      "---------------------\n",
      "    Max Sentiment:\n",
      "---------------------\n",
      "victim tweets: 0.800000\n",
      "location tweets: 1.000000\n"
     ]
    }
   ],
   "source": [
    "print \"        Length:\"\n",
    "print \"---------------------\"\n",
    "print \"victim tweets: %d\" %len(tweetering)\n",
    "print \"location tweets: %d\" %len(locationing)\n",
    "print \"---------------------\"\n",
    "print \"    Mean Sentiment:\"\n",
    "print \"---------------------\"\n",
    "print \"victim tweets: %f\" %tweetering['polarity'].mean()\n",
    "print \"location tweets: %f\" %locationing['polarity'].mean()\n",
    "print \"---------------------\"\n",
    "print \"    Min Sentiment:\"\n",
    "print \"---------------------\"\n",
    "print \"victim tweets: %f\" %tweetering['polarity'].min()\n",
    "print \"location tweets: %f\" %locationing['polarity'].min()\n",
    "print \"---------------------\"\n",
    "print \"    Max Sentiment:\"\n",
    "print \"---------------------\"\n",
    "print \"victim tweets: %f\" %tweetering['polarity'].max()\n",
    "print \"location tweets: %f\" %locationing['polarity'].max()"
   ]
  },
  {
   "cell_type": "markdown",
   "metadata": {},
   "source": [
    "#### Sentiment Subjectivity"
   ]
  },
  {
   "cell_type": "code",
   "execution_count": 14,
   "metadata": {
    "collapsed": false
   },
   "outputs": [
    {
     "data": {
      "text/plain": [
       "count    504.000000\n",
       "mean       0.295503\n",
       "std        0.316885\n",
       "min        0.000000\n",
       "25%        0.000000\n",
       "50%        0.216667\n",
       "75%        0.500000\n",
       "max        1.000000\n",
       "Name: subjectivity, dtype: float64"
      ]
     },
     "execution_count": 14,
     "metadata": {},
     "output_type": "execute_result"
    }
   ],
   "source": [
    "tweetering['subjectivity'].describe()"
   ]
  },
  {
   "cell_type": "code",
   "execution_count": 15,
   "metadata": {
    "collapsed": false
   },
   "outputs": [
    {
     "data": {
      "text/plain": [
       "count    224.000000\n",
       "mean       0.319135\n",
       "std        0.341018\n",
       "min        0.000000\n",
       "25%        0.000000\n",
       "50%        0.250000\n",
       "75%        0.575000\n",
       "max        1.000000\n",
       "Name: subjectivity, dtype: float64"
      ]
     },
     "execution_count": 15,
     "metadata": {},
     "output_type": "execute_result"
    }
   ],
   "source": [
    "locationing['subjectivity'].describe()"
   ]
  },
  {
   "cell_type": "markdown",
   "metadata": {},
   "source": [
    "#### Correlation between variables "
   ]
  },
  {
   "cell_type": "code",
   "execution_count": 16,
   "metadata": {
    "collapsed": false
   },
   "outputs": [
    {
     "data": {
      "text/html": [
       "<div>\n",
       "<table border=\"1\" class=\"dataframe\">\n",
       "  <thead>\n",
       "    <tr style=\"text-align: right;\">\n",
       "      <th></th>\n",
       "      <th>polarity</th>\n",
       "      <th>subjectivity</th>\n",
       "    </tr>\n",
       "  </thead>\n",
       "  <tbody>\n",
       "    <tr>\n",
       "      <th>polarity</th>\n",
       "      <td>1.000000</td>\n",
       "      <td>-0.278209</td>\n",
       "    </tr>\n",
       "    <tr>\n",
       "      <th>subjectivity</th>\n",
       "      <td>-0.278209</td>\n",
       "      <td>1.000000</td>\n",
       "    </tr>\n",
       "  </tbody>\n",
       "</table>\n",
       "</div>"
      ],
      "text/plain": [
       "              polarity  subjectivity\n",
       "polarity      1.000000     -0.278209\n",
       "subjectivity -0.278209      1.000000"
      ]
     },
     "execution_count": 16,
     "metadata": {},
     "output_type": "execute_result"
    }
   ],
   "source": [
    "tweetering.corr()"
   ]
  },
  {
   "cell_type": "code",
   "execution_count": 17,
   "metadata": {
    "collapsed": false
   },
   "outputs": [
    {
     "data": {
      "text/html": [
       "<div>\n",
       "<table border=\"1\" class=\"dataframe\">\n",
       "  <thead>\n",
       "    <tr style=\"text-align: right;\">\n",
       "      <th></th>\n",
       "      <th>polarity</th>\n",
       "      <th>subjectivity</th>\n",
       "    </tr>\n",
       "  </thead>\n",
       "  <tbody>\n",
       "    <tr>\n",
       "      <th>polarity</th>\n",
       "      <td>1.000000</td>\n",
       "      <td>0.499859</td>\n",
       "    </tr>\n",
       "    <tr>\n",
       "      <th>subjectivity</th>\n",
       "      <td>0.499859</td>\n",
       "      <td>1.000000</td>\n",
       "    </tr>\n",
       "  </tbody>\n",
       "</table>\n",
       "</div>"
      ],
      "text/plain": [
       "              polarity  subjectivity\n",
       "polarity      1.000000      0.499859\n",
       "subjectivity  0.499859      1.000000"
      ]
     },
     "execution_count": 17,
     "metadata": {},
     "output_type": "execute_result"
    }
   ],
   "source": [
    "locationing.corr()"
   ]
  },
  {
   "cell_type": "markdown",
   "metadata": {},
   "source": [
    "#### Plots"
   ]
  },
  {
   "cell_type": "code",
   "execution_count": 18,
   "metadata": {
    "collapsed": false
   },
   "outputs": [
    {
     "data": {
      "text/plain": [
       "[<matplotlib.lines.Line2D at 0xc303908>]"
      ]
     },
     "execution_count": 18,
     "metadata": {},
     "output_type": "execute_result"
    },
    {
     "data": {
      "image/png": "[encoded data removed]",
      "text/plain": [
       "<matplotlib.figure.Figure at 0xc2fdb00>"
      ]
     },
     "metadata": {},
     "output_type": "display_data"
    }
   ],
   "source": [
    "# Victim normal plot\n",
    "tweetering.polarity.plot(kind='hist', normed=True)\n",
    "\n",
    "range = np.arange(-1.5, 1.5, 0.001)\n",
    "plt.plot(range, norm.pdf(range,0,1))"
   ]
  },
  {
   "cell_type": "code",
   "execution_count": 19,
   "metadata": {
    "collapsed": false
   },
   "outputs": [
    {
     "data": {
      "text/plain": [
       "[<matplotlib.lines.Line2D at 0xbce25c0>]"
      ]
     },
     "execution_count": 19,
     "metadata": {},
     "output_type": "execute_result"
    },
    {
     "data": {
      "image/png": "[encoded data removed]",
      "text/plain": [
       "<matplotlib.figure.Figure at 0xc317470>"
      ]
     },
     "metadata": {},
     "output_type": "display_data"
    }
   ],
   "source": [
    "# Location normal plot\n",
    "locationing.polarity.plot(kind='hist', normed=True)\n",
    "\n",
    "range = np.arange(-1.5, 1.5, 0.001)\n",
    "plt.plot(range, norm.pdf(range,0,1))"
   ]
  },
  {
   "cell_type": "code",
   "execution_count": 20,
   "metadata": {
    "collapsed": false
   },
   "outputs": [
    {
     "data": {
      "image/png": "[encoded data removed]",
      "text/plain": [
       "<matplotlib.figure.Figure at 0xc3ea128>"
      ]
     },
     "metadata": {},
     "output_type": "display_data"
    }
   ],
   "source": [
    "plt.figure(figsize=(15,10))\n",
    "bins = np.linspace(-1.5, 1.5, 100)\n",
    "\n",
    "plt.hist(locationing.polarity, bins, alpha=0.5, label='location')\n",
    "plt.hist(tweetering.polarity, bins, alpha=0.5, label='victim')\n",
    "plt.legend(loc='upper right')\n",
    "plt.show()"
   ]
  },
  {
   "cell_type": "markdown",
   "metadata": {},
   "source": [
    "We can summarize that, overall, it appears that the location has a more positive sentiment value than the victim dataset. It has a both higher sentiment mean and sentiment max value. The location's sentiment min value is lower, meaning that individuals' posts on the location were less negative. This is more apparent on the overlaid histograms, where the locations' values were generally higher around the 0.5 to 1 range. However, it should also be taken into consideration that the victim dataset was almost twice as large as that of the location."
   ]
  },
  {
   "cell_type": "markdown",
   "metadata": {},
   "source": [
    "### Two-Sample t-tests"
   ]
  },
  {
   "cell_type": "markdown",
   "metadata": {},
   "source": [
    "*H0:* There is no difference in the sentiment/subjectivity means.\n",
    "\n",
    "*Ha:* There is a difference in the sentiment/subjectivity means."
   ]
  },
  {
   "cell_type": "code",
   "execution_count": 21,
   "metadata": {
    "collapsed": false
   },
   "outputs": [
    {
     "data": {
      "text/plain": [
       "Ttest_indResult(statistic=8.7737683107845417, pvalue=1.2229372079860183e-17)"
      ]
     },
     "execution_count": 21,
     "metadata": {},
     "output_type": "execute_result"
    }
   ],
   "source": [
    "# Polarity\n",
    "twosample_pol = scipy.stats.ttest_ind(locationing.polarity, tweetering.polarity)\n",
    "twosample_pol"
   ]
  },
  {
   "cell_type": "markdown",
   "metadata": {},
   "source": [
    "Since our p-value is as low as (1.223e-17), we can reject our null hypothesis of identical means for polarity. Each dataset had different mean sentiments."
   ]
  },
  {
   "cell_type": "code",
   "execution_count": 22,
   "metadata": {
    "collapsed": false
   },
   "outputs": [
    {
     "data": {
      "text/plain": [
       "Ttest_indResult(statistic=0.90693288692435392, pvalue=0.36474320373181157)"
      ]
     },
     "execution_count": 22,
     "metadata": {},
     "output_type": "execute_result"
    }
   ],
   "source": [
    "# Subjectivity\n",
    "twosample_sub = scipy.stats.ttest_ind(locationing.subjectivity, tweetering.subjectivity)\n",
    "twosample_sub"
   ]
  },
  {
   "cell_type": "markdown",
   "metadata": {},
   "source": [
    "As far as subjectivity is concerned, we failed to reject the null hypothesis. This implies that since the means were not different, both datasets were overall equally objective/subjective."
   ]
  },
  {
   "cell_type": "markdown",
   "metadata": {},
   "source": [
    "### Dataset Differences\n",
    "\n",
    "Since we have determined that the two datasets have different sentiment means, let's try and see if we can figure out how they are different. What are the most frequent words for each dataset? What are the most frequent hashtags?"
   ]
  },
  {
   "cell_type": "markdown",
   "metadata": {},
   "source": [
    "#### Looking at most common words"
   ]
  },
  {
   "cell_type": "code",
   "execution_count": 23,
   "metadata": {
    "collapsed": false
   },
   "outputs": [
    {
     "data": {
      "text/plain": [
       "#bakarihenderson     427\n",
       "rt                   122\n",
       "death                119\n",
       "beaten                89\n",
       "greece                74\n",
       "black                 70\n",
       "american              62\n",
       "#greece               59\n",
       "killed                49\n",
       "the                   42\n",
       "murder                39\n",
       "white                 38\n",
       "video                 37\n",
       "&amp;                 36\n",
       "man                   33\n",
       "tourist               33\n",
       "i                     31\n",
       "this                  30\n",
       "@realdonaldtrump      27\n",
       "to                    26\n",
       "greek                 26\n",
       "family                25\n",
       "racist                25\n",
       "people                25\n",
       "-                     24\n",
       "selfie                23\n",
       "young                 23\n",
       "may                   23\n",
       "emmett                22\n",
       "for                   22\n",
       "grad                  22\n",
       "a                     21\n",
       "us                    21\n",
       "#bakarihenderson,     20\n",
       "beating               20\n",
       "i'm                   19\n",
       "arizona               19\n",
       "say                   19\n",
       "photo                 19\n",
       "murdered              19\n",
       "friends               19\n",
       "bakari                19\n",
       "serbian               18\n",
       "in                    18\n",
       "have                  17\n",
       "been                  17\n",
       "still:                17\n",
       "heart                 16\n",
       "requesting            16\n",
       "police                16\n",
       "dtype: int64"
      ]
     },
     "execution_count": 23,
     "metadata": {},
     "output_type": "execute_result"
    }
   ],
   "source": [
    "# Victim\n",
    "\n",
    "stop = stopwords.words('english')\n",
    "# Removing stopwords\n",
    "tweetering['Text'] = tweetering['Text'].apply(lambda x: ' '.join([word for word in x.split() if word not in (stop)]))\n",
    "# Finding most common words\n",
    "pd.Series(' '.join(tweetering['Text']).lower().split()).value_counts()[:50]"
   ]
  },
  {
   "cell_type": "code",
   "execution_count": 24,
   "metadata": {
    "collapsed": false
   },
   "outputs": [
    {
     "data": {
      "text/plain": [
       "#zakynthos          159\n",
       "rt                   91\n",
       "#greece              67\n",
       "#zante               55\n",
       "zakynthos            24\n",
       "#laganas             21\n",
       "island               19\n",
       "#zakynthos,          19\n",
       ".                    17\n",
       "greece               16\n",
       "@                    16\n",
       "strikes              13\n",
       "-                    13\n",
       "km                   13\n",
       "#zkynthos            13\n",
       "min                  13\n",
       "ago.                 13\n",
       "(#greece)            13\n",
       "#travel              13\n",
       "#earthquake          13\n",
       "#summer              12\n",
       "beautiful            12\n",
       "american             11\n",
       "nw                   11\n",
       "#bakarihenderson      9\n",
       "holiday               9\n",
       "&amp;                 9\n",
       "(#)                   8\n",
       "villas                8\n",
       "the                   8\n",
       "+                     7\n",
       "ionian                7\n",
       "in                    7\n",
       "i                     7\n",
       "#beach                7\n",
       "morning               7\n",
       "#holiday              6\n",
       "info:                 6\n",
       "islands               6\n",
       "#sun                  6\n",
       "available             6\n",
       "#sea                  6\n",
       "zante                 6\n",
       "more                  6\n",
       "love                  6\n",
       "turtle                6\n",
       "our                   6\n",
       "place                 6\n",
       "...                   6\n",
       "beaten                6\n",
       "dtype: int64"
      ]
     },
     "execution_count": 24,
     "metadata": {},
     "output_type": "execute_result"
    }
   ],
   "source": [
    "# Location\n",
    "\n",
    "stop = stopwords.words('english')\n",
    "# Removing stopwords\n",
    "locationing['Text'] = locationing['Text'].apply(lambda x: ' '.join([word for word in x.split() if word not in (stop)]))\n",
    "# Finding most common words\n",
    "pd.Series(' '.join(locationing['Text']).lower().split()).value_counts()[:50]"
   ]
  },
  {
   "cell_type": "markdown",
   "metadata": {},
   "source": [
    "Looking at the top 50 most common words, it becomes apparent that despite a couple of mentions of the incident in the location dataset, the majority of the words revolve around vacationing and the environment (sun, sea, beach, etc)."
   ]
  },
  {
   "cell_type": "markdown",
   "metadata": {},
   "source": [
    "#### Looking at most common hashtags"
   ]
  },
  {
   "cell_type": "code",
   "execution_count": 25,
   "metadata": {
    "collapsed": false
   },
   "outputs": [],
   "source": [
    "# Victim\n",
    "\n",
    "# join all the tweets into one big text\n",
    "text = \" \".join(tweetering['Text'].values.astype(str))\n",
    "# and then we pull out all the words with hashtags\n",
    "match = re.findall(r\"#(\\w+)\", text)\n",
    "# hashtag counts\n",
    "vict_count = collections.Counter(match)\n",
    "vict_det=vict_count.most_common()\n",
    "#vict_det"
   ]
  },
  {
   "cell_type": "code",
   "execution_count": 26,
   "metadata": {
    "collapsed": false
   },
   "outputs": [
    {
     "name": "stderr",
     "output_type": "stream",
     "text": [
      "C:\\Users\\Georgia\\Anaconda2\\envs\\gl-env\\lib\\site-packages\\ipykernel\\__main__.py:5: FutureWarning: sort(columns=....) is deprecated, use sort_values(by=.....)\n"
     ]
    },
    {
     "data": {
      "image/png": "[encoded data removed]",
      "text/plain": [
       "<matplotlib.figure.Figure at 0xc8272e8>"
      ]
     },
     "metadata": {},
     "output_type": "display_data"
    }
   ],
   "source": [
    "df = pd.DataFrame(vict_det)\n",
    "Col_name=('hashtags','Freq')\n",
    "df.columns = Col_name\n",
    "df['Freq'] = df['Freq'].astype('int')\n",
    "newdf= df.sort('Freq', ascending=False).head(20)[['hashtags','Freq']]\n",
    "\n",
    "objects = newdf['hashtags']\n",
    "\n",
    "y_pos = np.arange(len(objects))\n",
    "\n",
    "performance = newdf['Freq']\n",
    "performance\n",
    "plt.figure(figsize=(15,10))\n",
    "plt.bar(y_pos, performance, align='center', alpha=5)\n",
    "plt.xticks(y_pos, objects)\n",
    "plt.ylabel('# Tweets')\n",
    "plt.title('Top 20 Hashtags per Tweets')\n",
    "plt.xticks(rotation=90)\n",
    "plt.show()"
   ]
  },
  {
   "cell_type": "code",
   "execution_count": 27,
   "metadata": {
    "collapsed": false
   },
   "outputs": [],
   "source": [
    "# Location\n",
    "\n",
    "# join all the tweets into one big text\n",
    "text = \" \".join(locationing['Text'].values.astype(str))\n",
    "# and then we pull out all the words with hashtags\n",
    "match = re.findall(r\"#(\\w+)\", text)\n",
    "# hashtag counts\n",
    "loc_count = collections.Counter(match)\n",
    "loc_det=loc_count.most_common()\n",
    "#loc_det"
   ]
  },
  {
   "cell_type": "code",
   "execution_count": 28,
   "metadata": {
    "collapsed": false
   },
   "outputs": [
    {
     "name": "stderr",
     "output_type": "stream",
     "text": [
      "C:\\Users\\Georgia\\Anaconda2\\envs\\gl-env\\lib\\site-packages\\ipykernel\\__main__.py:5: FutureWarning: sort(columns=....) is deprecated, use sort_values(by=.....)\n"
     ]
    },
    {
     "data": {
      "image/png": "[encoded data removed]",
      "text/plain": [
       "<matplotlib.figure.Figure at 0xc827438>"
      ]
     },
     "metadata": {},
     "output_type": "display_data"
    }
   ],
   "source": [
    "df=pd.DataFrame(loc_det)\n",
    "Col_name=('Locations','Freq')\n",
    "df.columns = Col_name\n",
    "df['Freq'] = df['Freq'].astype('int')\n",
    "newdf= df.sort('Freq', ascending=False).head(20)[['Locations','Freq']]\n",
    "\n",
    "objects = newdf['Locations']\n",
    "\n",
    "y_pos = np.arange(len(objects))\n",
    "\n",
    "performance = newdf['Freq']\n",
    "performance\n",
    "plt.figure(figsize=(15,10))\n",
    "plt.bar(y_pos, performance, align='center', alpha=5)\n",
    "plt.xticks(y_pos, objects)\n",
    "plt.ylabel('# Tweets')\n",
    "plt.title('Top 20 Hashtags per Tweets')\n",
    "plt.xticks(rotation=90)\n",
    "plt.show()"
   ]
  },
  {
   "cell_type": "markdown",
   "metadata": {},
   "source": [
    "Just by comparing the first 20 hashtags attached to each the location and the victim, we see a stark difference between the themes. The victims dataset mentions the island of Zakynthos and some basic information regarding the victim, but a recurring theme within the hashtags involves the topic of racism. On the other hand, the location dataset (in addition to location details, like the country and island's name) has more uplifting associations like \"holiday\" and \"travel.\""
   ]
  },
  {
   "cell_type": "markdown",
   "metadata": {
    "collapsed": true
   },
   "source": [
    "#### Conclusion\n",
    "\n",
    "From the first glimpse at the data, it appeared as though tweets regarding both the victim and the location revolved around how awful the event was, indirectly implying that the attitude towards vacationing in Laganas may (in some ways) be stigmatized by the murder. However, upon closer inspection of the datasets (by observing the location's higher sentiment scores, the two-sample t-test results concluding there is a difference in mean sentiment scores and the difference in themes for both hashtags and most common words) it becomes more apparent that despite the location's acknowledgment of the tragic event, the individuals tweeting about Laganas either are not detered, are not aware of, or do not allow the event to dampen their vacation.\n",
    "\n",
    "#### Further work\n",
    "\n",
    "Originally, this project aimed to compare sentiments of the location before the event and after, however the inability to pull tweets older than one-to-two weeks presented a problem, as did the inability to pull tweets that responded to one particular thread (ex. responses to a news article regarding the event). Working to retrieve such data may prove particularly interesting, as would an analysis of the natives' sentiments. Just reading through their tweets made it appear as if the majority of them were news articles, however collecting tweets from the locals regarding the event may provide a different perspective on what transpired."
   ]
  }
 ],
 "metadata": {
  "kernelspec": {
   "display_name": "Python 2",
   "language": "python",
   "name": "python2"
  },
  "language_info": {
   "codemirror_mode": {
    "name": "ipython",
    "version": 2
   },
   "file_extension": ".py",
   "mimetype": "text/x-python",
   "name": "python",
   "nbconvert_exporter": "python",
   "pygments_lexer": "ipython2",
   "version": "2.7.11"
  }
 },
 "nbformat": 4,
 "nbformat_minor": 0
}
